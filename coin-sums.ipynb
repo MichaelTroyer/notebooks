{
 "cells": [
  {
   "cell_type": "markdown",
   "metadata": {},
   "source": [
    "# Coin Sums\n",
    "---\n",
    "### Project Euler # 31"
   ]
  },
  {
   "cell_type": "markdown",
   "metadata": {},
   "source": [
    "---\n",
    "In England the currency is made up of pound, £, and pence, p, and there are eight coins in general circulation:\n",
    "\n",
    "1p, 2p, 5p, 10p, 20p, 50p, £1 (100p) and £2 (200p).\n",
    "\n",
    "How many different ways can £2 be made using any number of coins?"
   ]
  },
  {
   "cell_type": "markdown",
   "metadata": {},
   "source": [
    "---\n",
    "I spent three days trying to understand the mathematical basis for this problem:\n",
    "\n",
    "https://en.wikipedia.org/wiki/Partition_(number_theory)\n",
    "\n",
    "http://mathworld.wolfram.com/PartitionFunctionP.html\n",
    "\n",
    "And then found this general approach rooted in dynamic programming:\n",
    "\n",
    "https://stackoverflow.com/questions/14992411/understanding-change-making-algorithm"
   ]
  },
  {
   "cell_type": "code",
   "execution_count": 1,
   "metadata": {
    "collapsed": true
   },
   "outputs": [],
   "source": [
    "def make_change(target, coins):\n",
    "    change = [1] + [0 for _ in range(target)]\n",
    "    for coin in coins:\n",
    "        for i in range(coin, target + 1):\n",
    "            change[i] += change[i - coin]\n",
    "    return change[target]"
   ]
  },
  {
   "cell_type": "code",
   "execution_count": 2,
   "metadata": {},
   "outputs": [
    {
     "name": "stdout",
     "output_type": "stream",
     "text": [
      "ways to change a dollar using [1, 5, 10, 25, 50, 100]: 293\n"
     ]
    }
   ],
   "source": [
    "# US currency - ways to change a dollar\n",
    "us_currency = [1,5,10,25,50,100]\n",
    "s = make_change(100, us_currency)\n",
    "print 'ways to change a dollar using {}: {}'.format(us_currency, s)"
   ]
  },
  {
   "cell_type": "code",
   "execution_count": 3,
   "metadata": {},
   "outputs": [
    {
     "name": "stdout",
     "output_type": "stream",
     "text": [
      "ways to change two pounds using [1, 2, 5, 10, 20, 50, 100, 200]: 73682\n"
     ]
    }
   ],
   "source": [
    "# UK currency - ways to change two pounds\n",
    "uk_currency = [1,2,5,10,20,50,100,200]\n",
    "s = make_change(200, uk_currency)\n",
    "print 'ways to change two pounds using {}: {}'.format(uk_currency, s)"
   ]
  },
  {
   "cell_type": "code",
   "execution_count": 4,
   "metadata": {},
   "outputs": [
    {
     "name": "stdout",
     "output_type": "stream",
     "text": [
      "1000 loops, best of 3: 388 µs per loop\n"
     ]
    }
   ],
   "source": [
    "%timeit make_change(200, uk_currency)"
   ]
  },
  {
   "cell_type": "markdown",
   "metadata": {},
   "source": [
    "73682 is the right answer and this thing finds it in 391/1000000 of a second on average..\n",
    "\n",
    "Let's deconstruct this little beast using a simplified US currency example:\n",
    "\n",
    "How many ways can you make change for 20 cents using only pennies, nickels, and dimes?"
   ]
  },
  {
   "cell_type": "code",
   "execution_count": 5,
   "metadata": {},
   "outputs": [],
   "source": [
    "target = 20          # 20 cents\n",
    "currency = [1,5,10]  # pennies, nickels, and dimes"
   ]
  },
  {
   "cell_type": "code",
   "execution_count": 6,
   "metadata": {},
   "outputs": [
    {
     "name": "stdout",
     "output_type": "stream",
     "text": [
      "[1, 0, 0, 0, 0, 0, 0, 0, 0, 0, 0, 0, 0, 0, 0, 0, 0, 0, 0, 0, 0]\n"
     ]
    }
   ],
   "source": [
    "# create a list of 0s whose length equals target + 1 (target value including 0)\n",
    "change = [1] + [0 for _ in range(target)]\n",
    "print change"
   ]
  },
  {
   "cell_type": "markdown",
   "metadata": {},
   "source": [
    "These values represent the number of ways to make change for each currency value [i] where:\n",
    "\n",
    "    0 <= i <= target\n",
    "    \n",
    "\n",
    "e.g. the number of ways to make change for 0 cents, 1 cents, 2 cents ... 20 cents\n",
    "\n",
    "We haven't calculated any combinations yet except for 0:\n",
    "\n",
    "    there is exactly 1 way to make change for 0 cents... with 0 cents"
   ]
  },
  {
   "cell_type": "markdown",
   "metadata": {},
   "source": [
    "Then, for each coin in ascending sequence, we calculate the number of combinations that can be made with the current coin and any lesser value coins. \n",
    "\n",
    "The number of combinations that can be made with that coin or any combination of lesser coins is given as the current value at that position in the list plus the number of combinations (the list value) that can be made for the value exactly one current coin interval below the current value of interest.\n",
    "\n",
    "It makes more sense when you see it in action:"
   ]
  },
  {
   "cell_type": "code",
   "execution_count": 7,
   "metadata": {},
   "outputs": [
    {
     "name": "stdout",
     "output_type": "stream",
     "text": [
      "[1, 1, 1, 1, 1, 1, 1, 1, 1, 1, 1, 1, 1, 1, 1, 1, 1, 1, 1, 1, 1]\n"
     ]
    }
   ],
   "source": [
    "# start with the pennies\n",
    "penny = 1\n",
    "for i in range(penny, target + 1):  # for every value between 1 and 20\n",
    "    change[i] += change[i - penny]   # add [i - 1] value to current value\n",
    "    \n",
    "print change"
   ]
  },
  {
   "cell_type": "markdown",
   "metadata": {},
   "source": [
    "As expected, the [1] propogates across the entire list as there is exactly one way to make any value with only pennies... i.e. all pennies"
   ]
  },
  {
   "cell_type": "code",
   "execution_count": 8,
   "metadata": {},
   "outputs": [
    {
     "name": "stdout",
     "output_type": "stream",
     "text": [
      "[1, 1, 1, 1, 1, 2, 2, 2, 2, 2, 3, 3, 3, 3, 3, 4, 4, 4, 4, 4, 5]\n"
     ]
    }
   ],
   "source": [
    "# now add the nickels\n",
    "nickel = 5\n",
    "for i in range(nickel, target + 1):  # for every value between 5 and 20\n",
    "    change[i] += change[i - nickel]   # add [i - 5] value to current value\n",
    "    \n",
    "print change"
   ]
  },
  {
   "cell_type": "markdown",
   "metadata": {},
   "source": [
    "Now it gets interesting:\n",
    "\n",
    "For values less than 5, there is still only one possible combination: all pennies.\n",
    "\n",
    "For values between 5 and 9, there are now two possible combinations: all pennies or one nickel and the remainder in pennies.\n",
    "\n",
    "For values between 10 and 14, there are now three possible combinations: all pennies, one nickel and the remainder in pennies, or two nickels and the remainder in pennies (if any).\n",
    "\n",
    "For values between 15 and 19, there are now four possible combinations: all pennies, one nickel and the remainder in pennies, two nickels and the remainder in pennies, or three nickels and the remainder in pennies (if any).\n",
    "\n",
    "Lastly, for value 20, there are now five combinations: all pennies, one nickel and the remainder in pennies, two nickels and the remainder in pennies, three nickels and the remainder in pennies, or four nickels.\n",
    "\n",
    "For each nickel interval the number of possible combinations is equal to the current list value (representing the number of combinations using only lesser coins - in this case pennies - 1 combination) plus the number of possible combinations calculated at the previous nickel interval.\n",
    "\n",
    "In this way we can account for the previously calculated combinations and iterativly add new coins and calculate their contribution to the number of possible combinations for a given value."
   ]
  },
  {
   "cell_type": "code",
   "execution_count": 9,
   "metadata": {},
   "outputs": [
    {
     "name": "stdout",
     "output_type": "stream",
     "text": [
      "[1, 1, 1, 1, 1, 2, 2, 2, 2, 2, 4, 4, 4, 4, 4, 6, 6, 6, 6, 6, 9]\n"
     ]
    }
   ],
   "source": [
    "# add the dimes\n",
    "dime = 10\n",
    "for i in range(dime, target + 1):    # for every value between 10 and 20\n",
    "    change[i] += change[i - dime]   # add [i - 10] value to current value\n",
    "    \n",
    "print change"
   ]
  },
  {
   "cell_type": "markdown",
   "metadata": {},
   "source": [
    "Lastly, having added the dimes:\n",
    "\n",
    "For values less than 10, the number of combinations is unchanged since a dime can't be used to make change for a value less than a dime.\n",
    "\n",
    "For values between 10 and 14, there is an additional combination available: dime + pennies. The additional combination [1] is encoded in positions 0 - 4 - i.e. positions a dime less.\n",
    "\n",
    "For values between 15 and 19 there are now two additional combinations: dime + pennies or dime + nickel + pennies (if any). The additional combinations [2] is encoded in positions 5 - 9 - i.e. positions a dime less.\n",
    "\n",
    "For value 20, there are now four additional combinations: dime + pennies, dime + nickel + pennies, dime + 2 nickels, and 2 dimes. The additional combinations [4] is encoded at position 10 - i.e. the position a dime less.\n",
    "\n",
    "There are nine ways to make change for 20 cents using pennies, nickels, and dimes.\n",
    "\n",
    "    1. 20 pennies\n",
    "    2. 1 nickel,  15 pennies\n",
    "    3. 2 nickels, 10 pennies\n",
    "    4. 3 nickels, 5 pennies\n",
    "    5. 4 nickels\n",
    "    6. 1 dime, 10 pennies\n",
    "    7. 1 dime, 1 nickel, 5 pennies\n",
    "    8. 1 dime, 2 nickels\n",
    "    9. 2 dimes"
   ]
  },
  {
   "cell_type": "code",
   "execution_count": 10,
   "metadata": {
    "collapsed": true
   },
   "outputs": [],
   "source": [
    "# success!"
   ]
  }
 ],
 "metadata": {
  "anaconda-cloud": {},
  "kernelspec": {
   "display_name": "Python [default]",
   "language": "python",
   "name": "python2"
  },
  "language_info": {
   "codemirror_mode": {
    "name": "ipython",
    "version": 2
   },
   "file_extension": ".py",
   "mimetype": "text/x-python",
   "name": "python",
   "nbconvert_exporter": "python",
   "pygments_lexer": "ipython2",
   "version": "2.7.12"
  }
 },
 "nbformat": 4,
 "nbformat_minor": 1
}
