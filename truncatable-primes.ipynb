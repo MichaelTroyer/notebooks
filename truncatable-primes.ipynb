{
 "cells": [
  {
   "cell_type": "markdown",
   "metadata": {},
   "source": [
    "# Truncatable Primes\n",
    "---\n",
    "### Project Euler # 37"
   ]
  },
  {
   "cell_type": "markdown",
   "metadata": {},
   "source": [
    "The number 3797 has an interesting property. Being prime itself, it is possible to continuously remove digits from left to right, and remain prime at each stage: 3797, 797, 97, and 7. Similarly we can work from right to left: 3797, 379, 37, and 3.\n",
    "\n",
    "Find the sum of the only eleven primes that are both truncatable from left to right and right to left.\n",
    "\n",
    "NOTE: 2, 3, 5, and 7 are not considered to be truncatable primes."
   ]
  },
  {
   "cell_type": "code",
   "execution_count": 1,
   "metadata": {
    "collapsed": true
   },
   "outputs": [],
   "source": [
    "'''\n",
    "first and last must both be single-digit primes [2,3,5,7]\n",
    "\n",
    "2 can start a number, but no evens anywhere else in sequence\n",
    "''';"
   ]
  },
  {
   "cell_type": "code",
   "execution_count": 2,
   "metadata": {
    "collapsed": true
   },
   "outputs": [],
   "source": [
    "# get the list of primes\n",
    "def rwh_primes1(n):\n",
    "    # http://stackoverflow.com/questions/2068372/\n",
    "    # fastest-way-to-list-all-primes-below-n-in-python/3035188#3035188\n",
    "    \"\"\" Returns  a list of primes < n \"\"\"\n",
    "    sieve = [True] * (n//2)\n",
    "    for i in xrange(3,int(n**0.5)+1,2):\n",
    "        if sieve[i//2]:\n",
    "            sieve[i*i//2::i] = [False] * ((n-i*i-1)//(2*i)+1)\n",
    "    return [2] + [2*i+1 for i in xrange(1,n//2) if sieve[i]]"
   ]
  },
  {
   "cell_type": "code",
   "execution_count": 3,
   "metadata": {
    "collapsed": true
   },
   "outputs": [],
   "source": [
    "# get the list of primes < 1 million (without single-digit primes)\n",
    "primes = set(rwh_primes1(1000000)) - set(rwh_primes1(10))"
   ]
  },
  {
   "cell_type": "code",
   "execution_count": 4,
   "metadata": {
    "collapsed": true
   },
   "outputs": [],
   "source": [
    "# no evens with exception of leading '2'\n",
    "# first and last digits must be prime\n",
    "primes_screened = \\\n",
    "set([p for p in primes if not any([n in str(p)[1:] for n in '02468']) and\n",
    "    (str(p)[0] in '2357' and str(p)[-1] in '357')])"
   ]
  },
  {
   "cell_type": "code",
   "execution_count": 5,
   "metadata": {
    "collapsed": true
   },
   "outputs": [],
   "source": [
    "# check if all truncatable versions are prime - exit on first failure\n",
    "def truncatable_prime(n):\n",
    "    strn = str(n)\n",
    "    for i in range(1, len(strn) - 1):\n",
    "        # start from each end\n",
    "        if not (int(strn[i:]) in primes and int(strn[:-i]) in primes):\n",
    "            return False\n",
    "    return True"
   ]
  },
  {
   "cell_type": "code",
   "execution_count": 6,
   "metadata": {
    "collapsed": true
   },
   "outputs": [],
   "source": [
    "truncated_primes = [p for p in primes_screened if truncatable_prime(p)]"
   ]
  },
  {
   "cell_type": "code",
   "execution_count": 7,
   "metadata": {},
   "outputs": [
    {
     "name": "stdout",
     "output_type": "stream",
     "text": [
      "truncatable primes: [23, 37, 53, 739397, 73, 313, 317, 373, 3137, 797, 3797]\n",
      "length: 11\n",
      "sum: 748317\n"
     ]
    }
   ],
   "source": [
    "print 'truncatable primes: {}\\nlength: {}\\nsum: {}'.\\\n",
    "format(truncated_primes, len(truncated_primes), sum(truncated_primes))"
   ]
  },
  {
   "cell_type": "markdown",
   "metadata": {},
   "source": [
    "Success!"
   ]
  }
 ],
 "metadata": {
  "anaconda-cloud": {},
  "kernelspec": {
   "display_name": "Python [default]",
   "language": "python",
   "name": "python2"
  },
  "language_info": {
   "codemirror_mode": {
    "name": "ipython",
    "version": 2
   },
   "file_extension": ".py",
   "mimetype": "text/x-python",
   "name": "python",
   "nbconvert_exporter": "python",
   "pygments_lexer": "ipython2",
   "version": "2.7.12"
  }
 },
 "nbformat": 4,
 "nbformat_minor": 1
}
