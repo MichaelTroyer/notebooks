{
 "cells": [
  {
   "cell_type": "markdown",
   "metadata": {},
   "source": [
    "# Pandigital Products\n",
    "---\n",
    "### Project Euler # 32"
   ]
  },
  {
   "cell_type": "markdown",
   "metadata": {},
   "source": [
    "We shall say that an n-digit number is pandigital if it makes use of all the digits 1 to n exactly once; for example, the 5-digit number, 15234, is 1 through 5 pandigital.\n",
    "\n",
    "The product 7254 is unusual, as the identity, 39 × 186 = 7254, containing multiplicand, multiplier, and product is 1 through 9 pandigital.\n",
    "\n",
    "Find the sum of all products whose multiplicand/multiplier/product identity can be written as a 1 through 9 pandigital.\n",
    "\n",
    "HINT: Some products can be obtained in more than one way so be sure to only include it once in your sum.\n",
    "\n",
    "---\n",
    "\n",
    "The sequence has to be nn x nnn = nnnn [2 digits x 3 digits = 4 digits]\n",
    "\n",
    "Can't be n x nnn = nnnnn as all n x nnn permutations yield 4 digits max\n",
    "\n",
    "Can't be nnn x nnn = nnn as all nnn x nnn permutations yield five digits min"
   ]
  },
  {
   "cell_type": "markdown",
   "metadata": {},
   "source": [
    "This dumb solution involves permutations of the string 123456789\n",
    "\n",
    "The number of permutations resulting from permuting a sequence of length n is:\n",
    "\n",
    "${\\frac {n!}{(n-k)!}}$\n",
    "\n",
    "n(9) - k(9) = 0! = 1\n",
    "\n",
    "thus we have 9! = 362880 permutations to wrangle"
   ]
  },
  {
   "cell_type": "code",
   "execution_count": 51,
   "metadata": {},
   "outputs": [],
   "source": [
    "import math\n",
    "from itertools import permutations\n",
    "\n",
    "seq = '123456789'"
   ]
  },
  {
   "cell_type": "code",
   "execution_count": 87,
   "metadata": {
    "collapsed": true
   },
   "outputs": [],
   "source": [
    "def pandigital(seq):\n",
    "    multiplicand = int(''.join(seq[:2]))\n",
    "    multiplier   = int(''.join(seq[2:5]))\n",
    "    product      = int(''.join(seq[5:]))\n",
    "    if multiplicand * multiplier == product:\n",
    "        return True, multiplicand, multiplier, product\n",
    "    multiplicand = int(''.join(seq[:1]))\n",
    "    multiplier   = int(''.join(seq[1:5]))\n",
    "    product      = int(''.join(seq[5:]))\n",
    "    if multiplicand * multiplier == product:\n",
    "        return True, multiplicand, multiplier, product\n",
    "    else: return False, multiplicand, multiplier, product\n",
    "\n",
    "def get_pandigitals(seq):\n",
    "    for i in permutations(seq): \n",
    "        pdg = pandigital(i)\n",
    "        if pdg[0]: yield pdg[1:]"
   ]
  },
  {
   "cell_type": "code",
   "execution_count": 91,
   "metadata": {},
   "outputs": [
    {
     "data": {
      "text/plain": [
       "[(12, 483, 5796),\n",
       " (18, 297, 5346),\n",
       " (27, 198, 5346),\n",
       " (28, 157, 4396),\n",
       " (39, 186, 7254),\n",
       " (4, 1738, 6952),\n",
       " (4, 1963, 7852),\n",
       " (42, 138, 5796),\n",
       " (48, 159, 7632)]"
      ]
     },
     "execution_count": 91,
     "metadata": {},
     "output_type": "execute_result"
    }
   ],
   "source": [
    "list(get_pandigitals(seq))"
   ]
  },
  {
   "cell_type": "code",
   "execution_count": 89,
   "metadata": {},
   "outputs": [
    {
     "data": {
      "text/plain": [
       "45228"
      ]
     },
     "execution_count": 89,
     "metadata": {},
     "output_type": "execute_result"
    }
   ],
   "source": [
    "sum(set([x[2] for x in get_pandigitals(seq)]))"
   ]
  }
 ],
 "metadata": {
  "kernelspec": {
   "display_name": "Python [default]",
   "language": "python",
   "name": "python2"
  },
  "language_info": {
   "codemirror_mode": {
    "name": "ipython",
    "version": 2
   },
   "file_extension": ".py",
   "mimetype": "text/x-python",
   "name": "python",
   "nbconvert_exporter": "python",
   "pygments_lexer": "ipython2",
   "version": "2.7.12"
  }
 },
 "nbformat": 4,
 "nbformat_minor": 1
}
