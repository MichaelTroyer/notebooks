{
 "cells": [
  {
   "cell_type": "markdown",
   "metadata": {},
   "source": [
    "# One-Time Pad Cipher\n",
    "---"
   ]
  },
  {
   "cell_type": "markdown",
   "metadata": {},
   "source": [
    "One-time pad (OTP) ciphers are generally regarded as unbreakable provided that the encryption key is truly random (or close to it) and the key is NEVER recycled. \n",
    "\n",
    "Once a key is re-used, it is possible to compare multiple cipher-texts encrypted with that key and derive information about the unencrypted, plain-text message.\n",
    "\n",
    "OTP ciphers are encrypted using binary exclusive OR (XOR):\n",
    "\n",
    "http://xcprod.com/titan/XCSB-DOC/binary_xor.html\n",
    "\n",
    "The Python operand for XOR is ^"
   ]
  },
  {
   "cell_type": "markdown",
   "metadata": {},
   "source": [
    "Decryption algorithym:\n",
    "\n",
    "https://medium.com/100-days-of-algorithms/day-15-breaking-otp-52a45c0fa6d4\n",
    "\n",
    "Encryption algorithym:\n",
    "\n",
    "https://codereview.stackexchange.com/questions/116044/one-time-pad-algorithm-for-encryption-and-decryption"
   ]
  },
  {
   "cell_type": "code",
   "execution_count": 1,
   "metadata": {
    "collapsed": true
   },
   "outputs": [],
   "source": [
    "#!/usr/bin/python\n",
    "# -*- coding: ascii -*-\n",
    "\n",
    "from string import ascii_lowercase, printable\n",
    "from random import choice"
   ]
  },
  {
   "cell_type": "code",
   "execution_count": 2,
   "metadata": {
    "collapsed": true
   },
   "outputs": [],
   "source": [
    "def gen_key(n):\n",
    "    # Get a key string of random printable characters\n",
    "    return \"\".join(choice(printable) for _ in range(n))\n",
    "\n",
    "def encrypt(msg, key):\n",
    "    # Zip msg and key and evaluate pairs with binary exclusive OR\n",
    "    return \"\".join(chr(ord(i) ^ ord(j)) for (i, j) in zip(msg, key))\n",
    "    \n",
    "def decrypt(ciphertext, key):\n",
    "    # Just do it again\n",
    "    return encrypt(ciphertext, key)\n",
    "\n",
    "def split_seq(seq, length):\n",
    "    # Parse the input text below into blocks to be our 'messages'\n",
    "    return [seq[i: i+length] for i in range(0, len(seq), length)]"
   ]
  },
  {
   "cell_type": "code",
   "execution_count": 3,
   "metadata": {
    "collapsed": true
   },
   "outputs": [],
   "source": [
    "# My secret message\n",
    "plain_text = \\\n",
    "'The Hubble Space Telescope is a space telescope'\\\n",
    "'that was launched into low Earth orbit in 1990 and remains'\\\n",
    "'in operation. Although not the first space telescope, Hubble'\\\n",
    "'is one of the largest and most versatile, and is well known'\\\n",
    "'as both a vital research tool and a public relations boon for'\\\n",
    "'astronomy. The HST is named after the astronomer Edwin Hubble'\\\n",
    "'and is one of NASAs Great Observatories, along with the Compton'\\\n",
    "'Gamma Ray Observatory, the Chandra X-ray Observatory.'\\\n",
    "'Hubbles four main instruments observe in the near ultraviolet,'\\\n",
    "'visible, and near infrared spectra. Hubbles orbit outside the'\\\n",
    "'distortion of Earths atmosphere allows it to take extremely'\\\n",
    "'high-resolution images, with substantially lower background'\\\n",
    "'light than groundbased telescopes. Hubble has recorded some'\\\n",
    "'of the most detailed visible light images ever, allowing a deep'\\\n",
    "'view into space and time. Many Hubble observations have led to'\\\n",
    "'breakthroughs in astrophysics, such as accurately determining'\\\n",
    "'the rate of expansion of the universe. Fifteen more.'"
   ]
  },
  {
   "cell_type": "code",
   "execution_count": 4,
   "metadata": {
    "collapsed": true
   },
   "outputs": [],
   "source": [
    "# Split the input into BLOCK_SIZE units\n",
    "# Create a BLOCK_SIZE length key\n",
    "# Encrypt each unit with key\n",
    "BLOCK_SIZE = 50\n",
    "\n",
    "otp_key      = gen_key(BLOCK_SIZE)\n",
    "split_text   = split_seq(plain_text.lower(), BLOCK_SIZE)\n",
    "cipher_text  = [encrypt(m, otp_key) for m in split_text]\n",
    "# We've really fucked up now."
   ]
  },
  {
   "cell_type": "code",
   "execution_count": 5,
   "metadata": {},
   "outputs": [
    {
     "data": {
      "text/plain": [
       "['the hubble space telescope is a space telescopetha',\n",
       " 't was launched into low earth orbit in 1990 and re',\n",
       " 'mainsin operation. although not the first space te',\n",
       " 'lescope, hubbleis one of the largest and most vers',\n",
       " 'atile, and is well knownas both a vital research t',\n",
       " 'ool and a public relations boon forastronomy. the ',\n",
       " 'hst is named after the astronomer edwin hubbleand ',\n",
       " 'is one of nasas great observatories, along with th',\n",
       " 'e comptongamma ray observatory, the chandra x-ray ',\n",
       " 'observatory.hubbles four main instruments observe ',\n",
       " 'in the near ultraviolet,visible, and near infrared',\n",
       " ' spectra. hubbles orbit outside thedistortion of e',\n",
       " 'arths atmosphere allows it to take extremelyhigh-r',\n",
       " 'esolution images, with substantially lower backgro',\n",
       " 'undlight than groundbased telescopes. hubble has r',\n",
       " 'ecorded someof the most detailed visible light ima',\n",
       " 'ges ever, allowing a deepview into space and time.',\n",
       " ' many hubble observations have led tobreakthroughs',\n",
       " ' in astrophysics, such as accurately determiningth',\n",
       " 'e rate of expansion of the universe. fifteen more.']"
      ]
     },
     "execution_count": 5,
     "metadata": {},
     "output_type": "execute_result"
    }
   ],
   "source": [
    "# The individual messages\n",
    "split_text"
   ]
  },
  {
   "cell_type": "code",
   "execution_count": 6,
   "metadata": {},
   "outputs": [
    {
     "data": {
      "text/plain": [
       "['(C\\x15`6\"\\x1cTUE\\x19[Z\\x07\\x19[\\x06$\\x0f?\\n%A\\x13\\x15N\\rI^\\x05\\x02CC\\x15\\x00HKb7\\x12\\x10N\\x15M\\x05KEPW5',\n",
       " '(\\x0b\\x07!-w\\x12WLNZ@O\\x02ZWH$\\x05s\\x039U\\\\\\x00J_TE\\x05\\x0c\\x11R\\x0c\\x15\\x0bG,cFE\\x12V\\x0e\\x0bUD\\x04M1',\n",
       " '1J\\x19.->\\x10\\x16VP\\\\ZK\\x12\\x13QH~J2\\x03\"J\\x13\\x10LE\\x00CJ\\x17CD\\r\\x04\\x0bH+1\\x04\\x08\\x0b\\x15^\\x0bXE\\x04K1',\n",
       " \"0N\\x03#1'\\x1b\\x1a\\x19HLJH\\n\\x1fWUp\\x05=\\nvM\\x1aE_EE\\rI\\x02\\x11W\\x00\\x12_\\x0e#-\\x13\\\\F\\t]\\x1e\\x1bVAM'\",\n",
       " '=_\\x19,;{^WWD\\x19AYF\\r[J<J8\\x019U\\x12\\x04X\\rBBQ\\x0bCQE\\x17BZ#/W\\x0eN\\x15K\\x0bICL\\x1f ',\n",
       " '3D\\x1c`?9\\x1a\\x16X\\x00I]H\\n\\x13]\\x06\"\\x0f?\\x0e\"K\\x13\\x0bX\\rBBJ\\rCV\\n\\x13J]61\\x18\\x12D\\x0bWD\\x1bTLZt',\n",
       " '4X\\x04`7$^XXM\\\\L\\n\\x07\\x1cJC\"J\\'\\x073\\x02\\x1d\\x16__OCJ\\x0e\\x06BE\\x04OY+-W\\x14^\\x04L\\x06^AJ[t',\n",
       " '5XP/02^Y_\\x00WIY\\x07\\t\\x1eA\"\\x0f2\\x1bvM\\x1e\\x16N_VLQ\\x0c\\x11Y\\x00\\x12\\x07\\x0e#/\\x18\\x12LFY\\x03OH\\x04K<',\n",
       " '9\\x0b\\x13/3\\'\\nYWGXEG\\x07ZLG)J<\\r%G\\x0e\\x13JYO_\\\\OCD\\r\\x04\\x0bM*\"\\x19\\x18Y\\x07\\x0e\\x12\\x16REFt',\n",
       " \"3I\\x03%,!\\x1fBVR@\\x06B\\x13\\x18\\\\J5\\x19s\\t9W\\x0eEFLIC\\x05\\n\\rC\\x11\\x13^C'-\\x03\\x0f\\x0b\\tL\\x19^RRZt\",\n",
       " '5EP462^X\\\\AK\\x08_\\n\\x0eLG&\\x03<\\x033VP\\x13B^IOI\\x06O\\x10\\x04\\x0fO\\x0e,&\\x16\\x0e\\x0b\\x0f@\\x0cIAVZ0',\n",
       " '|X\\x00%=#\\x0cW\\x17\\x00Q]H\\x04\\x16[Up\\x05!\\r?V\\\\\\n^YSDA\\x06CD\\r\\x04OG17\\x18\\x0e_\\x0fA\\x04\\x1bOB\\x1f1',\n",
       " '=Y\\x04(-w\\x1fBTOJXB\\x03\\x08[\\x061\\x06?\\x00!Q\\\\\\x0c_\\rTB\\x05\\x17\\x02[\\x00ANV61\\x12\\x11N\\nW\\x02RGL\\x12&',\n",
       " '9X\\x1f,+#\\x17YW\\x00PEK\\x01\\x1fM\\np\\x1d:\\x1b>\\x02\\x0f\\x10I^TLK\\x17\\nQ\\t\\rR\\x0e.,\\x00\\x19YFL\\x0bXKCM;',\n",
       " ')E\\x14,70\\x16B\\x19TQIDF\\x1dLI%\\x047\\r7Q\\x19\\x01\\x0bYEA@\\x10\\x00_\\x15\\x04X\\x00b+\\x02\\x1eI\\nKJSAW\\x1f&',\n",
       " '9H\\x1f2:2\\x1a\\x16JOTME\\x00ZJN5J>\\x00%V\\\\\\x01NYADI\\x06\\x07\\x10\\x13\\x08XG /\\x12\\\\G\\x0fI\\x02O\\x00MR5',\n",
       " ';N\\x03`;!\\x1bD\\x15\\x00XDF\\t\\rWH7J2O2G\\x19\\x15]DEZ\\x05\\n\\rD\\nAX^# \\x12\\\\J\\x08JJOIIZz',\n",
       " '|F\\x11.\\'w\\x16C[BUM\\n\\t\\x18MC\"\\x1c2\\x1b?M\\x12\\x16\\x0bEA[@C\\x0fU\\x01A_A 1\\x12\\x1d@\\x12F\\x18TUCW\\'',\n",
       " '|B\\x1e`?$\\nDVPQQY\\x0f\\x19M\\np\\x19&\\x0c>\\x02\\x1d\\x16\\x0bLCNP\\x11\\x02D\\x00\\rR\\x0e&&\\x03\\x19Y\\x0bG\\x04RNCK<',\n",
       " '9\\x0b\\x02!*2^Y_\\x00\\\\PZ\\x07\\x14MO?\\x04s\\x000\\x02\\x08\\rN\\rUCL\\x15\\x06B\\x16\\x04\\x05\\x0e$*\\x11\\x08N\\x03@JVOVZz']"
      ]
     },
     "execution_count": 6,
     "metadata": {},
     "output_type": "execute_result"
    }
   ],
   "source": [
    "# The encrypted messages - cipher-texts\n",
    "cipher_text"
   ]
  },
  {
   "cell_type": "code",
   "execution_count": 7,
   "metadata": {
    "collapsed": true
   },
   "outputs": [],
   "source": [
    "# Compare all the values at the same index in each cipher-text \n",
    "# and try to decode each with every number between 0 and 256. \n",
    "# If a number decodes each index value to a valid character, \n",
    "# add it to list of possible keys. If there is one possibility,\n",
    "# the index value is decoded with that number.\n",
    "def decipher(cipher_text):\n",
    "    # Set of allowed characters\n",
    "    letters = set(ascii_lowercase + ' .')\n",
    "\n",
    "    # Reconstructed messages\n",
    "    plaintext = [''] * len(cipher_text)\n",
    "\n",
    "    # Take all the codes at the same position\n",
    "    for messages in zip(*cipher_text):\n",
    "        keys = set()\n",
    "\n",
    "        # Find viable keys\n",
    "        for key in range(256):\n",
    "            for m in messages:\n",
    "                if chr(ord(m) ^ key) not in letters:\n",
    "                    break\n",
    "            else: keys.add(key)\n",
    "        \n",
    "        # There can be only one.. Highlander!\n",
    "        key = keys.pop() if len(keys) == 1 else None\n",
    "\n",
    "        # Reconstruct plaintext\n",
    "        for i, m in enumerate(messages):\n",
    "            if key is not None:\n",
    "                plaintext[i] += chr(ord(m) ^ key)\n",
    "            else: plaintext[i] += '?'\n",
    "\n",
    "    return plaintext"
   ]
  },
  {
   "cell_type": "code",
   "execution_count": 8,
   "metadata": {
    "scrolled": false
   },
   "outputs": [
    {
     "name": "stdout",
     "output_type": "stream",
     "text": [
      "Deciphered: the h?b??e space?telesc?pe is ??spa?e t????co?et?a\n",
      "Original:   the hubble space telescope is a space telescopetha\n",
      "\n",
      "Deciphered: t was?l??nched i?to low?earth ??bit?in ???? a?d ?e\n",
      "Original:   t was launched into low earth orbit in 1990 and re\n",
      "\n",
      "Deciphered: mains?n??peratio?. alth?ugh no??the?fir????pa?e ?e\n",
      "Original:   mainsin operation. although not the first space te\n",
      "\n",
      "Deciphered: lesco?e??hubblei? one o? the l??ges? an????st?ve?s\n",
      "Original:   lescope, hubbleis one of the largest and most vers\n",
      "\n",
      "Deciphered: atile? ??d is we?l know?as bot??a v?tal????ea?ch?t\n",
      "Original:   atile, and is well knownas both a vital research t\n",
      "\n",
      "Deciphered: ool a?d?? public?relati?ns boo??for?str????y.?th? \n",
      "Original:   ool and a public relations boon forastronomy. the \n",
      "\n",
      "Deciphered: hst i? ??med aft?r the ?strono??r e?win????bl?an? \n",
      "Original:   hst is named after the astronomer edwin hubbleand \n",
      "\n",
      "Deciphered: is on? ?? nasas ?reat o?servat??ies? al????wi?h ?h\n",
      "Original:   is one of nasas great observatories, along with th\n",
      "\n",
      "Deciphered: e com?t??gamma r?y obse?vatory??the?cha???? x?ra? \n",
      "Original:   e comptongamma ray observatory, the chandra x-ray \n",
      "\n",
      "Deciphered: obser?a??ry.hubb?es fou? main ??str?men????bs?rv? \n",
      "Original:   observatory.hubbles four main instruments observe \n",
      "\n",
      "Deciphered: in th? ??ar ultr?violet?visibl?? an? ne????nf?ar?d\n",
      "Original:   in the near ultraviolet,visible, and near infrared\n",
      "\n",
      "Deciphered:  spec?r?? hubble? orbit?outsid??the?ist????on?of?e\n",
      "Original:    spectra. hubbles orbit outside thedistortion of e\n",
      "\n",
      "Deciphered: arths?a??osphere?allows?it to ??ke ?xtr????yh?gh?r\n",
      "Original:   arths atmosphere allows it to take extremelyhigh-r\n",
      "\n",
      "Deciphered: esolu?i?? images? with ?ubstan??all? lo????ba?kg?o\n",
      "Original:   esolution images, with substantially lower backgro\n",
      "\n",
      "Deciphered: undli?h??than gr?undbas?d tele??ope?. h????e ?as?r\n",
      "Original:   undlight than groundbased telescopes. hubble has r\n",
      "\n",
      "Deciphered: ecord?d??omeof t?e most?detail?? vi?ibl????gh? i?a\n",
      "Original:   ecorded someof the most detailed visible light ima\n",
      "\n",
      "Deciphered: ges e?e?? allowi?g a de?pview ??to ?pac????d ?im?.\n",
      "Original:   ges ever, allowing a deepview into space and time.\n",
      "\n",
      "Deciphered:  many?h??ble obs?rvatio?s have??ed ?obr????hr?ug?s\n",
      "Original:    many hubble observations have led tobreakthroughs\n",
      "\n",
      "Deciphered:  in a?t??physics? such ?s accu??tel? de????in?ng?h\n",
      "Original:    in astrophysics, such as accurately determiningth\n",
      "\n",
      "Deciphered: e rat? ?? expans?on of ?he uni??rse? fi????n ?or?.\n",
      "Original:   e rate of expansion of the universe. fifteen more.\n",
      "\n"
     ]
    }
   ],
   "source": [
    "deciphered = decipher(cipher_text)\n",
    "decrypted  = [decrypt(c, otp_key) for c in cipher_text]\n",
    "\n",
    "for c, d in zip(deciphered, decrypted):\n",
    "    print('Deciphered: ' + c)\n",
    "    print('Original:   ' + d)\n",
    "    print()"
   ]
  },
  {
   "cell_type": "markdown",
   "metadata": {},
   "source": [
    "Well nuts."
   ]
  }
 ],
 "metadata": {
  "anaconda-cloud": {},
  "kernelspec": {
   "display_name": "Python [conda env:py36]",
   "language": "python",
   "name": "conda-env-py36-py"
  },
  "language_info": {
   "codemirror_mode": {
    "name": "ipython",
    "version": 3
   },
   "file_extension": ".py",
   "mimetype": "text/x-python",
   "name": "python",
   "nbconvert_exporter": "python",
   "pygments_lexer": "ipython3",
   "version": "3.6.1"
  }
 },
 "nbformat": 4,
 "nbformat_minor": 1
}
