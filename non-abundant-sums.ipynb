{
 "cells": [
  {
   "cell_type": "markdown",
   "metadata": {},
   "source": [
    "# Non-Abundant Sums\n",
    "\n",
    "### Project Euler # 23"
   ]
  },
  {
   "cell_type": "markdown",
   "metadata": {},
   "source": [
    "## Background\n",
    "\n",
    "---\n",
    "\n",
    "A proper divisor is a divisor of a number n, excluding n itself.\n",
    "\n",
    "A perfect number is a number for which the sum of its proper divisors equals the number.\n",
    "\n",
    "For example, the sum of the proper divisors of 28 would be 1 + 2 + 4 + 7 + 14 = 28, which means that 28 is a perfect number.\n",
    "\n",
    "A number n is deficient if the sum of its proper divisors is less than n.\n",
    "A number n is abundant if the sum of its proper divisors is greater than n.\n",
    "\n",
    "As 12 is the smallest abundant number, 1 + 2 + 3 + 4 + 6 = 16, the smallest number that can be written as the sum of two abundant numbers is 24. \n",
    "\n",
    "---\n",
    "\n",
    "All integers greater than 28123 can be written as the sum of two abundant numbers (wikipedia says 20161). \n",
    "\n",
    "The smallest odd abundant number is 945.\n",
    "\n",
    "Every multiple (beyond 1) of a perfect number is abundant.\n",
    "\n",
    "Every multiple of an abundant number is abundant."
   ]
  },
  {
   "cell_type": "markdown",
   "metadata": {},
   "source": [
    "# Problem\n",
    "\n",
    "Find the sum of all the positive integers which cannot be written as the sum of two abundant numbers."
   ]
  },
  {
   "cell_type": "code",
   "execution_count": 4,
   "metadata": {
    "collapsed": true
   },
   "outputs": [],
   "source": [
    "import numpy as np\n",
    "import math"
   ]
  },
  {
   "cell_type": "markdown",
   "metadata": {},
   "source": [
    "You can find all the divisors of a number by calculating the prime factorization. Each divisor has to be a combination of the primes in the factorization."
   ]
  },
  {
   "cell_type": "code",
   "execution_count": 5,
   "metadata": {
    "collapsed": true
   },
   "outputs": [],
   "source": [
    "# prime factors approach\n",
    "\n",
    "# Build a prime list\n",
    "def rwh_primes1(n):\n",
    "    # http://stackoverflow.com/questions/2068372/\n",
    "    # fastest-way-to-list-all-primes-below-n-in-python/3035188#3035188\n",
    "    \"\"\" Returns  a list of primes < n \"\"\"\n",
    "    sieve = [True] * (n/2)\n",
    "    for i in xrange(3,int(n**0.5)+1,2):\n",
    "        if sieve[i/2]:\n",
    "            sieve[i*i/2::i] = [False] * ((n-i*i-1)/(2*i)+1)\n",
    "    return [2] + [2*i+1 for i in xrange(1,n/2) if sieve[i]]\n",
    "\n",
    "# build primes through non-abundant sum limit\n",
    "primes = rwh_primes1(28123)\n",
    "\n",
    "def factorize(n, primes):  # optimize this list?\n",
    "    factors = []\n",
    "    for p in primes:\n",
    "        if p*p > n: break  # evaluate only primes less than sqrt(n)\n",
    "        i = 0\n",
    "        while n % p == 0:  # if p divides n\n",
    "            n //= p        # get n // p and factor it\n",
    "            i+=1           # increment\n",
    "        if i > 0:          # if something to append\n",
    "            factors.append((p, i));\n",
    "    if n > 1: factors.append((n, 1))\n",
    "    return factors\n",
    "\n",
    "def get_divisors_pf(factors):\n",
    "    div = [1]\n",
    "    for (p, r) in factors:\n",
    "        div = [d * p**e for d in div for e in range(r + 1)]\n",
    "    return div\n",
    "\n",
    "def is_abundant_pf(n):\n",
    "    factors = factorize(n, primes)  # optimize list\n",
    "    if sum(get_divisors_pf(factors)) - n > n:\n",
    "        return True\n",
    "    else: return False\n",
    "\n",
    "def find_abundant_pf(limit):  # use a sieve approach\n",
    "    abundant = []\n",
    "    for i in xrange(1, limit):\n",
    "        if is_abundant_pf(i):\n",
    "            abundant.append(i)\n",
    "    return abundant"
   ]
  },
  {
   "cell_type": "code",
   "execution_count": 6,
   "metadata": {
    "collapsed": true
   },
   "outputs": [],
   "source": [
    "# trial division approach\n",
    "\n",
    "def get_divisors_td(n):\n",
    "    large_divisors = []\n",
    "    for i in xrange(1, int(math.sqrt(n) + 1)):\n",
    "        if n % i == 0:\n",
    "            yield i\n",
    "            if i*i != n and i != 1:\n",
    "                large_divisors.append(n / i)\n",
    "    for divisor in reversed(large_divisors):\n",
    "        yield divisor\n",
    "\n",
    "def is_abundant_td(n):\n",
    "    if sum(list(get_divisors_td(n))) > n:\n",
    "        return True\n",
    "    else: return False\n",
    "\n",
    "def find_abundant_td(limit):\n",
    "    abundant = []\n",
    "    for i in xrange(limit):\n",
    "        if is_abundant_td(i):\n",
    "            abundant.append(i)\n",
    "    return abundant"
   ]
  },
  {
   "cell_type": "code",
   "execution_count": 7,
   "metadata": {
    "collapsed": true
   },
   "outputs": [],
   "source": [
    "# here is the certified list of abundant numbers through 270\n",
    "A005101 = \\\n",
    "[12, 18, 20, 24, 30, 36, 40, 42, 48, 54, 56, 60, 66, 70, 72, 78, 80, 84, 88,\n",
    " 90, 96, 100, 102, 104, 108, 112, 114, 120, 126, 132, 138, 140, 144, 150, 156,\n",
    " 160, 162, 168, 174, 176, 180, 186, 192, 196, 198, 200, 204, 208, 210, 216,\n",
    " 220, 222, 224, 228, 234, 240, 246, 252, 258, 260, 264, 270]"
   ]
  },
  {
   "cell_type": "code",
   "execution_count": 8,
   "metadata": {},
   "outputs": [
    {
     "name": "stdout",
     "output_type": "stream",
     "text": [
      "True\n",
      "True\n"
     ]
    }
   ],
   "source": [
    "# check for accuracy\n",
    "print find_abundant_pf(271) == A005101\n",
    "print find_abundant_td(271) == A005101"
   ]
  },
  {
   "cell_type": "code",
   "execution_count": 9,
   "metadata": {
    "collapsed": true
   },
   "outputs": [],
   "source": [
    "limit = 28123"
   ]
  },
  {
   "cell_type": "code",
   "execution_count": 10,
   "metadata": {},
   "outputs": [
    {
     "name": "stdout",
     "output_type": "stream",
     "text": [
      "1 loop, best of 3: 620 ms per loop\n"
     ]
    }
   ],
   "source": [
    "%timeit find_abundant_td(limit)"
   ]
  },
  {
   "cell_type": "code",
   "execution_count": 11,
   "metadata": {},
   "outputs": [
    {
     "name": "stdout",
     "output_type": "stream",
     "text": [
      "1 loop, best of 3: 471 ms per loop\n"
     ]
    }
   ],
   "source": [
    "%timeit find_abundant_pf(limit)"
   ]
  },
  {
   "cell_type": "code",
   "execution_count": 12,
   "metadata": {
    "collapsed": true
   },
   "outputs": [],
   "source": [
    "abundant_numbers = set(find_abundant_pf(limit))"
   ]
  },
  {
   "cell_type": "code",
   "execution_count": 13,
   "metadata": {},
   "outputs": [
    {
     "data": {
      "text/plain": [
       "4994"
      ]
     },
     "execution_count": 13,
     "metadata": {},
     "output_type": "execute_result"
    }
   ],
   "source": [
    "len(abundant_numbers)"
   ]
  },
  {
   "cell_type": "code",
   "execution_count": 14,
   "metadata": {
    "collapsed": true
   },
   "outputs": [],
   "source": [
    "possibilities = set(range(1, limit))"
   ]
  },
  {
   "cell_type": "code",
   "execution_count": 20,
   "metadata": {
    "collapsed": true
   },
   "outputs": [],
   "source": [
    "from collections import Counter\n",
    "def pair_sum(A, t):\n",
    "    C = Counter(A)\n",
    "    for k,v in C.iteritems():\n",
    "        if t == k+k and v > 1: return True # k is in the array twice\n",
    "        elif t != k+k and t-k in C: return True\n",
    "    return False"
   ]
  },
  {
   "cell_type": "code",
   "execution_count": 24,
   "metadata": {},
   "outputs": [
    {
     "name": "stdout",
     "output_type": "stream",
     "text": [
      "100 loops, best of 3: 6.84 ms per loop\n"
     ]
    }
   ],
   "source": [
    "%timeit pair_sum(abundant_numbers, 20161)"
   ]
  },
  {
   "cell_type": "code",
   "execution_count": 32,
   "metadata": {},
   "outputs": [
    {
     "name": "stdout",
     "output_type": "stream",
     "text": [
      "66\n"
     ]
    }
   ],
   "source": [
    "non_abundant_sum = 0\n",
    "for i in range(limit):\n",
    "    if not pair_sum(abundant_numbers, i):\n",
    "        non_abundant_sum += i\n",
    "print non_abundant_sum"
   ]
  }
 ],
 "metadata": {
  "anaconda-cloud": {},
  "kernelspec": {
   "display_name": "Python [default]",
   "language": "python",
   "name": "python2"
  },
  "language_info": {
   "codemirror_mode": {
    "name": "ipython",
    "version": 2
   },
   "file_extension": ".py",
   "mimetype": "text/x-python",
   "name": "python",
   "nbconvert_exporter": "python",
   "pygments_lexer": "ipython2",
   "version": "2.7.12"
  }
 },
 "nbformat": 4,
 "nbformat_minor": 1
}
