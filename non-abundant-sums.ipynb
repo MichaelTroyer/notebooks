{
 "cells": [
  {
   "cell_type": "markdown",
   "metadata": {},
   "source": [
    "# Non-Abundant Sums\n",
    "\n",
    "### Project Euler # 23"
   ]
  },
  {
   "cell_type": "markdown",
   "metadata": {},
   "source": [
    "# Problem\n",
    "\n",
    "Find the sum of all the positive integers which cannot be written as the sum of two abundant numbers."
   ]
  },
  {
   "cell_type": "markdown",
   "metadata": {},
   "source": [
    "## Background\n",
    "\n",
    "---\n",
    "\n",
    "A proper divisor is a divisor of a number n, excluding n itself.\n",
    "\n",
    "A perfect number is a number for which the sum of its proper divisors equals the number.\n",
    "\n",
    "For example, the sum of the proper divisors of 28 would be 1 + 2 + 4 + 7 + 14 = 28, which means that 28 is a perfect number.\n",
    "\n",
    "A number n is deficient if the sum of its proper divisors is less than n.\n",
    "\n",
    "A number n is abundant if the sum of its proper divisors is greater than n.\n",
    "\n",
    "As 12 is the smallest abundant number, 1 + 2 + 3 + 4 + 6 = 16, the smallest number that can be written as the sum of two abundant numbers is 24. \n",
    "\n",
    "---\n",
    "\n",
    "1. All integers greater than 20161 can be written as the sum of two abundant numbers\n",
    "\n",
    "2. The smallest odd abundant number is 945.\n",
    "\n",
    "3. Every multiple (beyond 1) of a perfect number is abundant.\n",
    "\n",
    "4. Every multiple of an abundant number is abundant."
   ]
  },
  {
   "cell_type": "code",
   "execution_count": 1,
   "metadata": {
    "collapsed": true
   },
   "outputs": [],
   "source": [
    "from collections import Counter\n",
    "\n",
    "limit = 20162 # known limit + 1 JIC"
   ]
  },
  {
   "cell_type": "markdown",
   "metadata": {},
   "source": [
    "This question really has two big components:\n",
    "\n",
    "    1. Determine (quickly) is a number is abundant or not\n",
    "        a. Have to get the factors of the number (from a primes list)\n",
    "        b. Have to get all the proper divisors of a number (from factors list)\n",
    "        c. Add all the proper divisors together to get abundant or not\n",
    "    2. Determine for every number 1 -> limit if number is the sum of two abundant numbers\n",
    "        a. This is a subset-sum (pair-sum) problem\n",
    "        b. We could optimize this by using a sieve approach with points 2-4 above\n",
    "You can find all the divisors of a number by calculating the prime factorization.\n",
    "\n",
    "Each divisor has to be a combination of the primes in the factorization."
   ]
  },
  {
   "cell_type": "code",
   "execution_count": 2,
   "metadata": {
    "collapsed": true
   },
   "outputs": [],
   "source": [
    "# Build a list of prime numbers < n\n",
    "def rwh_primes1(n):\n",
    "    # http://stackoverflow.com/questions/2068372/\n",
    "    # fastest-way-to-list-all-primes-below-n-in-python/3035188#3035188\n",
    "    \"\"\" Returns  a list of primes < n \"\"\"\n",
    "    sieve = [True] * (n/2)\n",
    "    for i in xrange(3,int(n**0.5)+1,2):\n",
    "        if sieve[i/2]:\n",
    "            sieve[i*i/2::i] = [False] * ((n-i*i-1)/(2*i)+1)\n",
    "    return [2] + [2*i+1 for i in xrange(1,n/2) if sieve[i]]\n",
    "primes = rwh_primes1(limit)\n",
    "\n",
    "\n",
    "# get factors of n using list of primes\n",
    "def factorize(n, primes):  \n",
    "    factors = []\n",
    "    for p in primes:\n",
    "        if p*p > n: break  # evaluate only primes less than sqrt(n)\n",
    "        i = 0\n",
    "        while n % p == 0:  # if p divides n\n",
    "            n //= p        # get n // p and factor it\n",
    "            i+=1           \n",
    "        if i > 0:          \n",
    "            factors.append((p, i));\n",
    "    if n > 1: factors.append((n, 1))\n",
    "    return factors\n",
    "\n",
    "\n",
    "# get divisors from factors\n",
    "def get_divisors_pf(factors):\n",
    "    div = [1]\n",
    "    for (p, r) in factors:\n",
    "        div = [d * p**e for d in div for e in range(r + 1)]\n",
    "    return div\n",
    "\n",
    "\n",
    "# determine if a number n is abundant\n",
    "def is_abundant_pf(n):\n",
    "    factors = factorize(n, primes)\n",
    "    if sum(get_divisors_pf(factors)) - n > n:\n",
    "        return True\n",
    "    else: return False\n",
    "\n",
    "    \n",
    "# find all abundant nunbers below limit\n",
    "def find_abundant_pf(limit):\n",
    "    abundant = set()\n",
    "    for i in xrange(1, limit):\n",
    "        if is_abundant_pf(i):\n",
    "            abundant.add(i)\n",
    "    return abundant\n",
    "\n",
    "\n",
    "# determine if t is a sum of two numbers in A\n",
    "def pair_sum(A, t):\n",
    "    C = Counter(A)\n",
    "    for k,v in C.iteritems():\n",
    "        if t == k+k: return True \n",
    "        elif t-k in C: return True\n",
    "    return False\n",
    "\n",
    "\n",
    "# string it all together and get the non-abundant sum\n",
    "def get_non_abundant_sum(limit, abundants):\n",
    "    non_abundant_sum = 0\n",
    "    for i in range(limit):\n",
    "        if not pair_sum(abundants, i):\n",
    "            non_abundant_sum += i\n",
    "    print non_abundant_sum"
   ]
  },
  {
   "cell_type": "code",
   "execution_count": 3,
   "metadata": {
    "collapsed": false
   },
   "outputs": [
    {
     "name": "stdout",
     "output_type": "stream",
     "text": [
      "True\n"
     ]
    }
   ],
   "source": [
    "# here is the certified list of abundant numbers through 270\n",
    "A005101 = \\\n",
    "{12, 18, 20, 24, 30, 36, 40, 42, 48, 54, 56, 60, 66, 70, 72, 78, 80, 84, 88,\n",
    " 90, 96, 100, 102, 104, 108, 112, 114, 120, 126, 132, 138, 140, 144, 150, 156,\n",
    " 160, 162, 168, 174, 176, 180, 186, 192, 196, 198, 200, 204, 208, 210, 216,\n",
    " 220, 222, 224, 228, 234, 240, 246, 252, 258, 260, 264, 270}\n",
    "\n",
    "# check against our abundant number generator\n",
    "print find_abundant_pf(271) == A005101"
   ]
  },
  {
   "cell_type": "code",
   "execution_count": 4,
   "metadata": {
    "collapsed": false
   },
   "outputs": [
    {
     "name": "stdout",
     "output_type": "stream",
     "text": [
      "4994\n"
     ]
    }
   ],
   "source": [
    "# get the list of abundant numbers < limit\n",
    "abundant_numbers = find_abundant_pf(limit)\n",
    "print len(abundant_numbers)"
   ]
  },
  {
   "cell_type": "code",
   "execution_count": 5,
   "metadata": {
    "collapsed": false
   },
   "outputs": [
    {
     "name": "stdout",
     "output_type": "stream",
     "text": [
      "4179871\n",
      "4179871\n",
      "4179871\n",
      "4179871\n",
      "1 loop, best of 3: 35.5 s per loop\n"
     ]
    }
   ],
   "source": [
    "%timeit get_non_abundant_sum(limit, abundant_numbers)"
   ]
  },
  {
   "cell_type": "code",
   "execution_count": 6,
   "metadata": {
    "collapsed": true
   },
   "outputs": [],
   "source": [
    "the_real_answer = 4179871"
   ]
  },
  {
   "cell_type": "markdown",
   "metadata": {},
   "source": [
    "Yahtzee!  except 35 seconds on average is pretty damn slow for a computer.. "
   ]
  }
 ],
 "metadata": {
  "anaconda-cloud": {},
  "kernelspec": {
   "display_name": "Python [Root]",
   "language": "python",
   "name": "Python [Root]"
  },
  "language_info": {
   "codemirror_mode": {
    "name": "ipython",
    "version": 2
   },
   "file_extension": ".py",
   "mimetype": "text/x-python",
   "name": "python",
   "nbconvert_exporter": "python",
   "pygments_lexer": "ipython2",
   "version": "2.7.12"
  }
 },
 "nbformat": 4,
 "nbformat_minor": 1
}
