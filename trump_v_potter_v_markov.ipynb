{
 "cells": [
  {
   "cell_type": "code",
   "execution_count": 2,
   "metadata": {
    "collapsed": true
   },
   "outputs": [],
   "source": [
    "import markovify\n",
    "\n",
    "# Get raw trump text\n",
    "raw_trump_text = \\\n",
    "    r'C:\\Users\\michael\\Documents\\_projects\\markov-text\\trump_speeches.txt'\n",
    "    \n",
    "with open(raw_trump_text) as text:\n",
    "    trump_text = text.read()\n",
    "\n",
    "# Build the model\n",
    "trump_model = markovify.Text(trump_text)"
   ]
  },
  {
   "cell_type": "code",
   "execution_count": 3,
   "metadata": {
    "collapsed": true
   },
   "outputs": [],
   "source": [
    "# Get raw harry text\n",
    "raw_harry_text = \\\n",
    "    r'C:\\Users\\michael\\Documents\\_projects\\markov-text\\sorcerers-stone.txt'\n",
    "    \n",
    "with open(raw_harry_text) as text:\n",
    "    harry_text = text.read()\n",
    "\n",
    "# Build the model\n",
    "harry_model = markovify.Text(harry_text)"
   ]
  },
  {
   "cell_type": "code",
   "execution_count": 17,
   "metadata": {},
   "outputs": [
    {
     "name": "stdout",
     "output_type": "stream",
     "text": [
      "Trump: The problem is, no matter what country you talk about, you can filibuster, in the last cycle, at least they went in.\n",
      "\n",
      "Harry: And into the night, Hedwig swooping in and out on the table.\n",
      "\n",
      "Trump: I'm leading in most cases don’t even get to use it.\n",
      "\n",
      "Harry: The books she was crying; smiling, but crying at the black ball rose high above them.\n",
      "\n",
      "Trump: The problem is, however, that their leaders are killing us on trade.\n",
      "\n",
      "Harry: Harry was speeding toward the forbidden forest.\n",
      "\n",
      "Trump: But if you look at our airports generally, you look at the statistics.\n",
      "\n",
      "Harry: After what seemed like hours.\n",
      "\n",
      "Trump: And I have met some of the other Republican candidates drop out?\n",
      "\n",
      "Harry: The goblin read the paper off a funny gray one Ron wouldn't have minded, but she wasn't a map of the delicious smell of sizzling sausage.\n",
      "\n",
      "Trump: We spent $2 trillion, thousands of employees all over the southern border, which we’re allowing now to thank you very much.\n",
      "\n",
      "Harry: They could hear apart from wanting to win, Harry found himself out of the towers -- they would move up into the common room and the scraping of heavy trunks.\n",
      "\n",
      "Trump: It was a great – you know, think about it, because they make a great deal for one thing is that the money out of that.\n",
      "\n",
      "Harry: He was just telling everyone to look on his garden wall.\n",
      "\n",
      "Trump: I was doing a great state, and they tell you what I do.\n",
      "\n",
      "Harry: His eyes were on a stack of cauldrons outside the door.\n",
      "\n",
      "Trump: I mean, I own Doral and Turnberry in Scotland.\n",
      "\n",
      "Harry: Harry told them what was in the back seat; his father a sharp turn and drive in the opposite direction, but saw no one dared argue.\n",
      "\n",
      "Trump: I got the highest tax – nothing.\n",
      "\n",
      "Harry: Some had no keyhole.\n",
      "\n"
     ]
    }
   ],
   "source": [
    "# Print randomly-generated sentences\n",
    "for i in range(10):\n",
    "    print 'Trump: {}'.format(trump_model.make_sentence())\n",
    "    print \n",
    "    print 'Harry: {}'.format(harry_model.make_sentence())\n",
    "    print"
   ]
  },
  {
   "cell_type": "code",
   "execution_count": 5,
   "metadata": {
    "collapsed": true
   },
   "outputs": [],
   "source": [
    "harry_v_trump = markovify.combine([trump_model, harry_model], [1., 1.75])"
   ]
  },
  {
   "cell_type": "markdown",
   "metadata": {},
   "source": [
    "In Florida, they spent $38 million on ads and I brought it all back in Hagrid's hut, with Ron and Hermione arguing all the way.\n",
    "\n",
    "He probably knew everything -- except, it seemed, Quirrell's spell and how to address the Islamic terrorists--and you have the planets say is going to build a wall.\n",
    "\n",
    "I believe in whatever they want.\n",
    "\n",
    "About twenty ghosts had just arrived in the debate.\n",
    "\n",
    "Harry saw before them and Uncle Vernon the bill and the girlfriends and the knight turned his back on their very rich guy, very, very interesting.\n",
    "\n",
    "A low, soft hooting came from the Quidditch field where he'd been a mistake — call it an NBC monkey poll.\n",
    "\n",
    "I will never, ever let me do it.\n",
    "\n",
    "I think is a healing process, a crossbow and a VCR.\n",
    "\n",
    "Hermione did a great deal when I got it wrong, did you?\n",
    "\n",
    "25% of those had an amazing evening.\n",
    "\n",
    "Everywhere Harry went, people never even gotten a dose last night, you have tremendous problems with credit card debt and his hair was the child of immigrants charged with terrorist activities inside the hut.\n",
    "\n",
    "Harry looked into the Gryffindor common room, waiting for the vets.\n",
    "\n",
    "Harry heard the little plastic sticks Muggle children blew bubbles through, except that it was about to split $1 million doing a tremendous victory in trade?\n",
    "\n",
    "An old man came ambling up to look good.\n",
    "\n",
    "It’s a five year statute of limitations, right?\n",
    "\n",
    "He didn't know any magic yet -- he couldn't.\n",
    "\n",
    "I’m going to do all the people outside.\n",
    "\n",
    "We will ensure that our country and we will look for them and that could be carried around in his life: a high, cold, cruel laugh.\n",
    "\n",
    "Indiana, their unemployment rate 20%. Hey, this is a disgrace to CNBC.\n",
    "\n",
    "All they could see three letters addressed in emerald green and a horrible negotiator.\n",
    "\n",
    "The people are getting Social Security...But I heard very early in the country and they dump all their funny-shaped packages, with the Hispanics.\n",
    "\n",
    "35% to 18% to 9% to 2%. You know, they’re the Bobbsey twins.\n",
    "\n",
    "I SAID TO THEM, SO LET ME TELL YOU, A LOT OF BETTER THAN ANYBODY WHAT IS GOING TO BE FRIENDS WITH EVERYBODY, RIGHT.\n",
    "\n",
    "Behind the glass, the next, they had 24 million people, 24 million people, 24 million people on the doormat: a postcard from Uncle Vernon's old socks.\n",
    "\n",
    "But if I have the most powerful lobbyist – the Bible tops it by putting America first.\n",
    "\n",
    "Harry felt, afterward, that he was trying to marginalize."
   ]
  }
 ],
 "metadata": {
  "anaconda-cloud": {},
  "kernelspec": {
   "display_name": "Python [default]",
   "language": "python",
   "name": "python2"
  },
  "language_info": {
   "codemirror_mode": {
    "name": "ipython",
    "version": 2
   },
   "file_extension": ".py",
   "mimetype": "text/x-python",
   "name": "python",
   "nbconvert_exporter": "python",
   "pygments_lexer": "ipython2",
   "version": "2.7.12"
  }
 },
 "nbformat": 4,
 "nbformat_minor": 1
}
