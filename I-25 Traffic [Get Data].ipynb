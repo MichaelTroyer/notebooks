{
 "cells": [
  {
   "cell_type": "markdown",
   "metadata": {},
   "source": [
    "# Colorado I-25 Traffic Data"
   ]
  },
  {
   "cell_type": "markdown",
   "metadata": {},
   "source": [
    "\n",
    "\n",
    "![I-25](images\\i-25.jpg)"
   ]
  },
  {
   "cell_type": "code",
   "execution_count": null,
   "metadata": {
    "collapsed": true
   },
   "outputs": [],
   "source": [
    "### This notebook scrapes hourly traffic count data from continuous\n",
    "### recording traffic counters along I-25 in Colorado from the\n",
    "### Colorado Dept. of Transportation (CDOT) Online Transportation\n",
    "### Information System (OTIS).\n",
    "\n",
    "### The collected data are written to the table [Traffic] within a sqlite \n",
    "### database stored at /data/traffic.db\n",
    "\n",
    "### The table is in the format:\n",
    "### Station_ID TEXT, Count_Date DATE, Direction TEXT,\n",
    "### t00h INT - ... - t23H INT\n",
    "\n",
    "### As written, the tool collects three years of daily data for ten\n",
    "### stations, yielding 1095 continuous days of data at an hourly interval\n",
    "### for each of tenn stations."
   ]
  },
  {
   "cell_type": "code",
   "execution_count": null,
   "metadata": {},
   "outputs": [],
   "source": [
    "import os\n",
    "import sys\n",
    "import time\n",
    "import sqlite3\n",
    "\n",
    "from urllib import urlopen\n",
    "from bs4 import BeautifulSoup\n",
    "from collections import defaultdict\n",
    "\n",
    "import warnings\n",
    "warnings.filterwarnings('ignore')\n",
    "\n",
    "from IPython.core.interactiveshell import InteractiveShell\n",
    "InteractiveShell.ast_node_interactivity = \"all\"\n",
    "\n",
    "import pandas as pd\n",
    "pd.set_option('display.max_columns', None)\n",
    "# pd.set_option('display.max_rows', None)"
   ]
  },
  {
   "cell_type": "code",
   "execution_count": null,
   "metadata": {
    "collapsed": true
   },
   "outputs": [],
   "source": [
    "### Functions\n",
    "\n",
    "def get_data(url, stations, years, months):  # s,y,m = lists\n",
    "    data = defaultdict(list)\n",
    "    \n",
    "    def get_rows(soup):\n",
    "        rows = soup.find_all('tr')\n",
    "        return [[td.text for td in row.find_all('td')] for row in rows]\n",
    "\n",
    "    for station in stations:\n",
    "        for year in years:\n",
    "            for month in months:\n",
    "                print 'Processing [{}]: {}/{}'.format(station, month, year)\n",
    "                try:\n",
    "                    html = urlopen(url.format(station, year, month))\n",
    "                except:\n",
    "                    print 'error opening url'\n",
    "                try:\n",
    "                    soup = BeautifulSoup(html, 'html.parser')\n",
    "                    data[station].extend(get_rows(soup))\n",
    "                except:\n",
    "                    print 'error reading html'\n",
    "                time.sleep(5)\n",
    "    return data\n",
    "\n",
    "\n",
    "def build_database(db_path):\n",
    "    with sqlite3.connect(db_path) as con:\n",
    "        cur = con.cursor()\n",
    "        create_sql = ('CREATE TABLE Traffic('\n",
    "                      'Station_ID TEXT, Count_Date DATE, Direction TEXT, '\n",
    "                      't00h INT, t01h INT, t02h INT, t03h INT, t04h INT, '\n",
    "                      't05h INT, t06h INT, t07h INT, t08h INT, t09h INT, '\n",
    "                      't10h INT, t11h INT, t12h INT, t13h INT, t14h INT, '\n",
    "                      't15h INT, t16h INT, t17h INT, t18h INT, t19h INT, '\n",
    "                      't20h INT, t21h INT, t22h INT, t23h INT);')\n",
    "        cur.execute(create_sql)\n",
    "\n",
    "        \n",
    "def insert_rows(db_path, rows):  # db path, list of tuples\n",
    "    with sqlite3.connect(db_path) as con:\n",
    "        cur = con.cursor()\n",
    "        insert_sql = ('INSERT INTO Traffic '\n",
    "                      'VALUES('\n",
    "                      '?,?,?,'\n",
    "                      '?,?,?,?,?,?,?,?,'\n",
    "                      '?,?,?,?,?,?,?,?,'\n",
    "                      '?,?,?,?,?,?,?,?);')\n",
    "        cur.executemany(insert_sql, rows)\n",
    "        \n",
    "\n",
    "def main_get_traffic_data(url, stations, years, months, db_path):\n",
    "    traffic_data = get_data(url, stations, years, months)\n",
    "    \n",
    "    if not os.path.exists(db_path):\n",
    "        build_database(db_path)\n",
    "        \n",
    "    for station, data in traffic_data.items():\n",
    "        in_rows = [tuple([station] + row) for row in data if row]\n",
    "        print 'Adding records for station [{}]'.format(station)\n",
    "        insert_rows(traffic_db, in_rows)"
   ]
  },
  {
   "cell_type": "code",
   "execution_count": null,
   "metadata": {
    "collapsed": true
   },
   "outputs": [],
   "source": [
    "### Input parameters\n",
    "\n",
    "traffic_db = r'C:\\Users\\michael\\Documents\\projects\\traffic\\data\\traffic.db'\n",
    "\n",
    "# url to format: station ID, year, month\n",
    "url = (r'http://dtdapps.coloradodot.info/otis/TrafficData'\n",
    "       r'/GetDailyTrafficVolumeForStationByMonth/{}/true/{}/{}')\n",
    "\n",
    "# continuous recording stations\n",
    "stations = ['000101', '100950', '000009', '000520', '000124',\n",
    "            '000012', '000501', '000103', '000106', '000127',]\n",
    "\n",
    "# period of interst\n",
    "years, months = [2015, 2016, 2017], range(1, 13)"
   ]
  },
  {
   "cell_type": "code",
   "execution_count": null,
   "metadata": {
    "collapsed": true
   },
   "outputs": [],
   "source": [
    "main_get_traffic_data(url, stations, years, months, traffic_db)\n",
    "# main_get_traffic_data(url, ['000101'], [2017], [1], traffic_db)"
   ]
  },
  {
   "cell_type": "code",
   "execution_count": null,
   "metadata": {},
   "outputs": [],
   "source": [
    "db = sqlite3.connect(traffic_db)\n",
    "pd.read_sql_query(\"SELECT name FROM sqlite_master WHERE type='table';\", db)"
   ]
  },
  {
   "cell_type": "code",
   "execution_count": null,
   "metadata": {},
   "outputs": [],
   "source": [
    "with sqlite3.connect(traffic_db) as con:\n",
    "    traffic_df = pd.read_sql_query(\"SELECT * FROM Traffic;\", con)\n",
    "traffic_df.info()\n",
    "# traffic_df.head()"
   ]
  }
 ],
 "metadata": {
  "kernelspec": {
   "display_name": "Python 2",
   "language": "python",
   "name": "python2"
  },
  "language_info": {
   "codemirror_mode": {
    "name": "ipython",
    "version": 2
   },
   "file_extension": ".py",
   "mimetype": "text/x-python",
   "name": "python",
   "nbconvert_exporter": "python",
   "pygments_lexer": "ipython2",
   "version": "2.7.14"
  }
 },
 "nbformat": 4,
 "nbformat_minor": 2
}
