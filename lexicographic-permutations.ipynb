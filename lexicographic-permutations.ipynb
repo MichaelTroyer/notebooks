{
 "cells": [
  {
   "cell_type": "markdown",
   "metadata": {},
   "source": [
    "# Lexicographic Permutations\n",
    "\n",
    "### Project Euler #24"
   ]
  },
  {
   "cell_type": "markdown",
   "metadata": {},
   "source": [
    "A permutation is an ordered arrangement of objects.\n",
    "\n",
    "For example, 3124 is one possible permutation of the digits 1, 2, 3 and 4.\n",
    "\n",
    "If all of the permutations are listed numerically or alphabetically, we call it lexicographic order.\n",
    "\n",
    "The lexicographic permutations of 0, 1 and 2 are:\n",
    "\n",
    "    012   021   102   120   201   210\n",
    "\n",
    "What is the millionth lexicographic permutation of the digits 0, 1, 2, 3, 4, 5, 6, 7, 8 and 9?"
   ]
  },
  {
   "cell_type": "markdown",
   "metadata": {},
   "source": [
    "Credit Gareth Rees for lexicographic_index, which we use to verify our solution\n",
    "\n",
    "http://stackoverflow.com/questions/12146910/finding-the-lexicographic-index-of-a-permutation-of-a-given-array"
   ]
  },
  {
   "cell_type": "code",
   "execution_count": 1,
   "metadata": {
    "collapsed": true
   },
   "outputs": [],
   "source": [
    "from math import factorial\n",
    "import copy\n",
    "\n",
    "def lexicographic_index(p):\n",
    "    \"\"\"\n",
    "    Return the lexicographic index of the permutation `p` among all\n",
    "    permutations of its elements. `p` must be a sequence and all elements\n",
    "    of `p` must be distinct.\n",
    "    \"\"\"\n",
    "    result = 0\n",
    "    for j in range(len(p)):\n",
    "        k = sum(1 for i in p[j + 1:] if i < p[j]) \n",
    "        result += k * factorial(len(p) - j - 1)\n",
    "    return result"
   ]
  },
  {
   "cell_type": "markdown",
   "metadata": {},
   "source": [
    "The process of determining the next lexicographic permution from a sequence:\n",
    "\n",
    "1. Find the largest index k such that a[k] < a[k + 1]. \n",
    "\n",
    "2. If no such index exists, the permutation is the last permutation.\n",
    "\n",
    "3. Find the largest index l greater than k such that a[k] < a[l].\n",
    "\n",
    "4. Swap the value of a[k] with that of a[l].\n",
    "\n",
    "5. Reverse the sequence from a[k + 1] up to and including the final element a[n]."
   ]
  },
  {
   "cell_type": "code",
   "execution_count": 2,
   "metadata": {},
   "outputs": [],
   "source": [
    "def lexicographic_next(p):\n",
    "    \"\"\"\n",
    "    Return the next lexicographic permutation of `p` among all\n",
    "    permutations of its elements. `p` must be a sequence and all elements\n",
    "    of `p` must be distinct.\n",
    "    \"\"\"\n",
    "    p = list(p)       # get sequence as a list\n",
    "    r = copy.copy(p)  # get a copy of list to check if last permutation\n",
    "    if r == (sorted(r, reverse=True)): return 'end of sequence'  # Step 2\n",
    "    k = max([i for i in range(len(p) - 1) if p[i] < p[i + 1]])   # Step 1\n",
    "    l = max([i for i in range(k, len(p)) if p[i] > p[k]])        # Step 3\n",
    "    p[k], p[l] = p[l], p[k]                                      # Step 4\n",
    "    p[k + 1 : len(p)] = reversed(p[k + 1 : len(p)])              # Step 5\n",
    "    return p"
   ]
  },
  {
   "cell_type": "code",
   "execution_count": 3,
   "metadata": {},
   "outputs": [
    {
     "name": "stdout",
     "output_type": "stream",
     "text": [
      "final sequence: 2783915460\n",
      "final index: 999999\n"
     ]
    }
   ],
   "source": [
    "seq = '0123456789'\n",
    "\n",
    "# run it one million times - faster than generating every permutation\n",
    "for i in range(999999):  # we need the millionth item, which is index 999999\n",
    "    seq = lexicographic_next(seq)\n",
    "    \n",
    "print 'final sequence: {}'.format(''.join(seq))\n",
    "print 'final index: {}'.format(lexicographic_index(seq))"
   ]
  }
 ],
 "metadata": {
  "kernelspec": {
   "display_name": "Python [default]",
   "language": "python",
   "name": "python2"
  },
  "language_info": {
   "codemirror_mode": {
    "name": "ipython",
    "version": 2
   },
   "file_extension": ".py",
   "mimetype": "text/x-python",
   "name": "python",
   "nbconvert_exporter": "python",
   "pygments_lexer": "ipython2",
   "version": "2.7.12"
  }
 },
 "nbformat": 4,
 "nbformat_minor": 1
}
