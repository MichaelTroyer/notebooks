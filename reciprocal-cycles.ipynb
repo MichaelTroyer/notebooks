{
 "cells": [
  {
   "cell_type": "markdown",
   "metadata": {},
   "source": [
    "# Reciprocal Cycles\n",
    "---\n",
    "### Project Euler # 26"
   ]
  },
  {
   "cell_type": "markdown",
   "metadata": {},
   "source": [
    "# Background:\n",
    "\n",
    "A unit fraction contains 1 in the numerator:\n",
    "\n",
    "$1/2\t= \t0.5$\n",
    "\n",
    "$1/3\t= \t0.(3)$\n",
    "\n",
    "$1/4\t= \t0.25$\n",
    "\n",
    "$1/5\t= \t0.2$\n",
    "\n",
    "$1/6\t= \t0.1(6)$\n",
    "\n",
    "$1/7\t= \t0.(142857)$\n",
    "\n",
    "$1/8\t= \t0.125$\n",
    "\n",
    "$1/9\t= \t0.(1)$\n",
    "\n",
    "$1/10\t= \t0.1$\n",
    "\n",
    "Where $0.1(6)$ means $0.166666...$, and has a 1-digit recurring cycle. \n",
    "\n",
    "It can be seen that $1/7$ has a 6-digit recurring cycle."
   ]
  },
  {
   "cell_type": "code",
   "execution_count": 1,
   "metadata": {
    "collapsed": true
   },
   "outputs": [],
   "source": [
    "from __future__ import division\n",
    "import decimal\n",
    "import re\n",
    "\n",
    "decimal_precision = 10000\n",
    "decimal.getcontext().prec = decimal_precision"
   ]
  },
  {
   "cell_type": "markdown",
   "metadata": {},
   "source": [
    "# Problem \n",
    "\n",
    "Find the value of $d < 1000$ for which $1 / d$ contains the longest recurring cycle in its decimal part."
   ]
  },
  {
   "cell_type": "markdown",
   "metadata": {},
   "source": [
    "Here is a neat regex trick that sweeps a string looking for a sequence it can match - courtesy of Andrew Clark\n",
    "\n",
    "http://stackoverflow.com/questions/8672853/detecting-a-repeating-cycle-in-a-sequence-of-numbers-python"
   ]
  },
  {
   "cell_type": "code",
   "execution_count": 2,
   "metadata": {},
   "outputs": [],
   "source": [
    "def get_repeat_subsequence(seq):\n",
    "    seq = str(seq)\n",
    "    regex = re.compile(r'(..+?)(\\1)+')\n",
    "    match = regex.search(seq)\n",
    "    if match:\n",
    "        return match.group(1)\n",
    "    else: return None"
   ]
  },
  {
   "cell_type": "markdown",
   "metadata": {},
   "source": [
    "The regex expression here is super useful: \n",
    "\n",
    "    r'(..+?)(\\1)+'\n",
    "\n",
    "(..+?) will non-greedily match two+ numbers and place the result into capture group 1.  (\\1)+ will then try match the contents of capture group 1, at least once. The regex engine will sweep back and forth and increment the string until it finds a match or else returns None.\n",
    "\n",
    "The key here is pre-processing the $1 / i$ with decimal.Decimal to cast the values according to user-defined precision; Python ,ay truncate a floating-point number interrupting a reciprocol sequence giving us false results."
   ]
  },
  {
   "cell_type": "code",
   "execution_count": 3,
   "metadata": {},
   "outputs": [
    {
     "name": "stdout",
     "output_type": "stream",
     "text": [
      "100 loops, best of 3: 7.5 ms per loop\n"
     ]
    }
   ],
   "source": [
    "# and it's pretty fast\n",
    "%timeit get_repeat_subsequence(1 / decimal.Decimal(999))"
   ]
  },
  {
   "cell_type": "code",
   "execution_count": 4,
   "metadata": {},
   "outputs": [
    {
     "name": "stdout",
     "output_type": "stream",
     "text": [
      "(982, 983)\n"
     ]
    }
   ],
   "source": [
    "seq_lens = []\n",
    "for i in range(1, 1001):\n",
    "    s = str(decimal.Decimal(1)/decimal.Decimal(i))\n",
    "    r = get_repeat_subsequence(s)\n",
    "    if r: seq_lens.append((len(r), i))\n",
    "print max(seq_lens)"
   ]
  }
 ],
 "metadata": {
  "kernelspec": {
   "display_name": "Python [default]",
   "language": "python",
   "name": "python2"
  },
  "language_info": {
   "codemirror_mode": {
    "name": "ipython",
    "version": 2
   },
   "file_extension": ".py",
   "mimetype": "text/x-python",
   "name": "python",
   "nbconvert_exporter": "python",
   "pygments_lexer": "ipython2",
   "version": "2.7.12"
  }
 },
 "nbformat": 4,
 "nbformat_minor": 1
}
